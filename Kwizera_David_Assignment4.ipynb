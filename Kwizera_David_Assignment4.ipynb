{
  "nbformat": 4,
  "nbformat_minor": 0,
  "metadata": {
    "colab": {
      "name": "Kwizera_David- Assignment4.ipynb",
      "provenance": [],
      "collapsed_sections": [],
      "toc_visible": true,
      "include_colab_link": false
    },
    "kernelspec": {
      "name": "python3",
      "display_name": "Python 3"
    },
    "language_info": {
      "name": "python"
    }
  },
  "cells": [
    {
      "cell_type": "markdown",
      "metadata": {
        "id": "view-in-github",
        "colab_type": "text"
      },
      
    {
      "cell_type": "code",
      "metadata": {
        "id": "FM-6QoECL9Ej"
      },
      "source": [
        "# Importing libraries\n",
        "import pandas as pd\n",
        "import numpy as np\n",
        "import matplotlib.pyplot as plt\n",
        "import seaborn as sns\n",
        "import nltk"
      ],
      "execution_count": null,
      "outputs": []
    },
    {
      "cell_type": "code",
      "metadata": {
        "colab": {
          "base_uri": "https://localhost:8080/"
        },
        "id": "hf4JAPEGMLMo",
        "outputId": "cdfa3e81-81e0-4872-ac33-d60fb74d4aee"
      },
      "source": [
        "# Mounting the drive and importing the dataset\n",
        "from google.colab import drive\n",
        "drive.mount(\"/content/drive\")"
      ],
      "execution_count": null,
      "outputs": [
        {
          "output_type": "stream",
          "text": [
            "Drive already mounted at /content/drive; to attempt to forcibly remount, call drive.mount(\"/content/drive\", force_remount=True).\n"
          ],
          "name": "stdout"
        }
      ]
    },
    {
      "cell_type": "code",
      "metadata": {
        "colab": {
          "base_uri": "https://localhost:8080/",
          "height": 204
        },
        "id": "uBgPn88SM3fP",
        "outputId": "423c88ff-62a7-45a6-fb9f-bbeb034005d9"
      },
      "source": [
        "# Loading the data from the path\n",
        "path = 'drive/My Drive'\n",
        "df = pd.read_csv(path+\"/mined_news_content2.csv\")\n",
        "df.head()"
      ],
      "execution_count": null,
      "outputs": [
        {
          "output_type": "execute_result",
          "data": {
            "text/html": [
              "<div>\n",
              "<style scoped>\n",
              "    .dataframe tbody tr th:only-of-type {\n",
              "        vertical-align: middle;\n",
              "    }\n",
              "\n",
              "    .dataframe tbody tr th {\n",
              "        vertical-align: top;\n",
              "    }\n",
              "\n",
              "    .dataframe thead th {\n",
              "        text-align: right;\n",
              "    }\n",
              "</style>\n",
              "<table border=\"1\" class=\"dataframe\">\n",
              "  <thead>\n",
              "    <tr style=\"text-align: right;\">\n",
              "      <th></th>\n",
              "      <th>Unnamed: 0</th>\n",
              "      <th>article</th>\n",
              "      <th>category</th>\n",
              "      <th>url</th>\n",
              "    </tr>\n",
              "  </thead>\n",
              "  <tbody>\n",
              "    <tr>\n",
              "      <th>0</th>\n",
              "      <td>0</td>\n",
              "      <td>('multiple', None, None, ['\\nPrime Minister Bo...</td>\n",
              "      <td>politics</td>\n",
              "      <td>https://www.bbc.com/news/uk-56572775</td>\n",
              "    </tr>\n",
              "    <tr>\n",
              "      <th>1</th>\n",
              "      <td>1</td>\n",
              "      <td>('multiple', None, None, [\"\\nBrazil's Jair Bol...</td>\n",
              "      <td>politics</td>\n",
              "      <td>https://www.bbc.com/news/world-latin-america-5...</td>\n",
              "    </tr>\n",
              "    <tr>\n",
              "      <th>2</th>\n",
              "      <td>2</td>\n",
              "      <td>('multiple', None, None, ['\\nThe US military s...</td>\n",
              "      <td>politics</td>\n",
              "      <td>tps://www.bbc.com/news/world-asia-39595989</td>\n",
              "    </tr>\n",
              "    <tr>\n",
              "      <th>3</th>\n",
              "      <td>3</td>\n",
              "      <td>('multiple', None, None, ['\\nUS President Dona...</td>\n",
              "      <td>politics</td>\n",
              "      <td>https://www.bbc.com/news/technology-55569604</td>\n",
              "    </tr>\n",
              "    <tr>\n",
              "      <th>4</th>\n",
              "      <td>4</td>\n",
              "      <td>('multiple', None, None, [\"\\nNorthern Ireland'...</td>\n",
              "      <td>politics</td>\n",
              "      <td>https://www.bbc.com/news/uk-northern-ireland-5...</td>\n",
              "    </tr>\n",
              "  </tbody>\n",
              "</table>\n",
              "</div>"
            ],
            "text/plain": [
              "   Unnamed: 0  ...                                                url\n",
              "0           0  ...               https://www.bbc.com/news/uk-56572775\n",
              "1           1  ...  https://www.bbc.com/news/world-latin-america-5...\n",
              "2           2  ...         tps://www.bbc.com/news/world-asia-39595989\n",
              "3           3  ...       https://www.bbc.com/news/technology-55569604\n",
              "4           4  ...  https://www.bbc.com/news/uk-northern-ireland-5...\n",
              "\n",
              "[5 rows x 4 columns]"
            ]
          },
          "metadata": {
            "tags": []
          },
          "execution_count": 3
        }
      ]
    },
    {
      "cell_type": "code",
      "metadata": {
        "colab": {
          "base_uri": "https://localhost:8080/"
        },
        "id": "DabQUCXVN6Wn",
        "outputId": "0196ac92-82ea-4e77-9140-6bbb37a7293c"
      },
      "source": [
        "# Understanding the dataset\n",
        "df.info()"
      ],
      "execution_count": null,
      "outputs": [
        {
          "output_type": "stream",
          "text": [
            "<class 'pandas.core.frame.DataFrame'>\n",
            "RangeIndex: 80 entries, 0 to 79\n",
            "Data columns (total 4 columns):\n",
            " #   Column      Non-Null Count  Dtype \n",
            "---  ------      --------------  ----- \n",
            " 0   Unnamed: 0  80 non-null     int64 \n",
            " 1   article     80 non-null     object\n",
            " 2   category    80 non-null     object\n",
            " 3   url         80 non-null     object\n",
            "dtypes: int64(1), object(3)\n",
            "memory usage: 2.6+ KB\n"
          ],
          "name": "stdout"
        }
      ]
    },
    {
      "cell_type": "markdown",
      "metadata": {
        "id": "-nVd8J-EN_C_"
      },
      "source": [
        "### **Cleaning the dataset**"
      ]
    },
    {
      "cell_type": "code",
      "metadata": {
        "colab": {
          "base_uri": "https://localhost:8080/",
          "height": 276
        },
        "id": "KYLoXT2cNP6k",
        "outputId": "41931c00-996a-4965-f25e-5117cea0be0d"
      },
      "source": [
        "# Removing irrelevant texts at the beginning of the article\n",
        "article = df['article']\n",
        "for i in range(len(article)):\n",
        "  article[i] = article[i][29:]\n",
        "df['article'][0]"
      ],
      "execution_count": null,
      "outputs": [
        {
          "output_type": "stream",
          "text": [
            "/usr/local/lib/python3.7/dist-packages/ipykernel_launcher.py:4: SettingWithCopyWarning: \n",
            "A value is trying to be set on a copy of a slice from a DataFrame\n",
            "\n",
            "See the caveats in the documentation: https://pandas.pydata.org/pandas-docs/stable/user_guide/indexing.html#returning-a-view-versus-a-copy\n",
            "  after removing the cwd from sys.path.\n"
          ],
          "name": "stderr"
        },
        {
          "output_type": "execute_result",
          "data": {
            "application/vnd.google.colaboratory.intrinsic+json": {
              "type": "string"
            },
            "text/plain": [
              "'Prime Minister Boris Johnson has joined more than 20 world leaders in calling for a new global settlement to help the world prepare for future pandemics. \\\\n\\', \\'\\\\nIn a newspaper article the leaders, including the German chancellor and French president, said Covid posed the biggest challenge since World War Two.\\\\n\\', \\'\\\\nWriting in the Daily Telegraph and publications such as Le Monde in France and El Pais in Spain, the 24 leaders argue that a treaty similar to that reached in the wake of World War Two is needed to build cross-border cooperation.\\\\n\\', \\'\\\\nThe signatories, who include the head of the World Health Organization, Dr Tedros Adhanom Ghebreyesus, said: \"At that time, following the devastation of two world wars, political leaders came together to forge the multilateral system. \\\\n\\', \\'\\\\n\"The aims were clear: To bring countries together, to dispel the temptations of isolationism and nationalism, and to address the challenges that could only be achieved together in the spirit of solidarity and co-operation - namely peace, prosperity, health and security.\"\\\\n\\', \\'\\\\nFrance\\\\\\'s President Emmanuel Macron, German Chancellor Angela Merkel and the other leaders said that in the same spirit, countries must now \"be better prepared to predict, prevent, detect, assess and effectively respond to pandemics in a highly co-ordinated fashion\". \\\\n\\', \\'\\\\nA new treaty would help to establish better systems for alerting people about potential pandemics, they said, while also improving the sharing of data and distribution of vaccines and personal protective equipment.\\\\n\\', \\'\\\\n\"There will be other pandemics and other major health emergencies. No single government or multilateral agency can address this threat alone. The question is not if, but when. \\\\n\\', \\'\\\\nThe letter added: \"At a time when Covid-19 has exploited our weaknesses and divisions, we must seize this opportunity and come together as a global community for peaceful co-operation that extends beyond this crisis.\"\\\\n\\', \\'\\\\nDr David Nabarro, a special envoy on Covid-19 for the WHO, told BBC Radio 4\\\\\\'s Today programme that without \"some kind of special action, the world as a whole will not be vaccinated until well into 2022\".\\\\n\\', \\'\\\\n\"During that time all sorts of problems with variants will emerge, and so all that leaders are saying is \\\\\\'this problem is so huge we\\\\\\'ve got to work together to deal with it\\\\\\',\" he added.\\\\n\\', \\'\\\\nWhile the concept of an international vaccine treaty suggests cosy cooperation, elsewhere there is quite the battle going on between the signatories of this letter over the issue of the blueprints to the new vaccines.\\\\n\\', \\'\\\\nSouth Africa and India are leading dozens of mainly developing countries seeking a temporary pandemic waiver to global rules protecting the technology and recipes for Covid vaccines. \\\\n\\', \\'\\\\nThe argument is that the pharmaceutical companies have performed well in getting a vaccine into arms within a year, and need to be able to have the incentive of making money out of this innovation in years to come.\\\\n\\', \\'\\\\nThat would mark a stunning change, and leave the UK and the EU under pressure to change tack, or at least to put more flesh on the bones of the goal of this treaty - that the pandemic will not be over until it is over for everyone.\\\\n\\', \\'\\\\nMr Kwarteng told the programme that making vaccines available to other counties \"can happen once we have a surplus of vaccines here in the UK\".\\\\n\\', \\'\\\\n\"There\\\\\\'s still a way to go. We\\\\\\'ve got to make sure we do everything we can deal with the pandemic and coronavirus in this country,\" he said.\\\\n\\', \\'\\\\n\"But obviously we want to work in the spirit of co-operation as well, and when we do have surpluses we\\\\\\'ll be looking to export those, I\\\\\\'m sure.\"\\\\n\\', \\'\\\\nThe joint article comes in the wake of disagreement between the UK and the EU over vaccines, after the bloc introduced tougher export controls on jabs produced there.\\\\n\\', \\'\\\\nThe UK and the World Health Organization warned against blockades, while the EU blamed pharmaceutical companies - primarily AstraZeneca - for not delivering promised doses. \\\\n\\', \\'\\\\nAt a Downing Street briefing on Monday, Mr Johnson announced that tens of millions of doses of the Novavax vaccine would now be produced and packaged in north-east England.\\\\n\\', \\'\\\\nAlso at the briefing, the PM said the UK did not know \"exactly how strong\" its defences against another wave of Covid would be despite its \"impressive\" vaccine rollout. \\\\n\\', \\'\\\\nHe was speaking as the stay-at-home rule came to an end in England, allowing groups to meet outdoors. Outdoor sport facilities, including swimming pools, tennis courts and golf courses, have reopened, while weddings are also on again.\\\\n\\', \\'\\\\nBut he also said he could not \"see anything in the data right now that would cause us to deviate from the road map\" of easing further restrictions.\\\\n\\', \\'\\\\nThe latest figures show 293,542 UK adults received a first dose of the vaccine on Sunday, taking the overall number to 30,444,829 - with 146,785 having their second dose, bringing that total to 3,674,266.\\\\n\\'])'"
            ]
          },
          "metadata": {
            "tags": []
          },
          "execution_count": 5
        }
      ]
    },
    {
      "cell_type": "code",
      "metadata": {
        "id": "khAcGvxvNVQ4"
      },
      "source": [
        "# Cleaning texts input from articles and removing special characters\n",
        "import re\n",
        "import string\n",
        "from html.parser import HTMLParser\n",
        "from nltk.corpus import stopwords\n",
        "\n",
        "# Function turning a list into a string\n",
        "def listToString(s): \n",
        "    str1 = \" \"   \n",
        "    return (str1.join(s))\n",
        "\n",
        "# Function to clean texts\n",
        "def clean_texts(text):\n",
        "  # Removing html characters\n",
        "  text = HTMLParser().unescape(text)\n",
        "  # Removing urls and hashtags\n",
        "  text = re.sub(r'https?:\\/\\/.\\S+', \"\", text)\n",
        "  text = re.sub(r'#', '', text)\n",
        "  text = re.sub(r'^RT[\\s]+', '', text)\n",
        "  # Contradiction replacement\n",
        "  dictionary={\"'s\":\" is\",\"n't\":\" not\",\"'m\":\" am\",\"'ll\":\" will\",\n",
        "           \"'d\":\" would\",\"'ve\":\" have\",\"'re\":\" are\", \"\\n\":\" \"}\n",
        "  for key,value in dictionary.items():\n",
        "      if key in text:\n",
        "          text = text.replace(key, value)\n",
        "  # Convert to lower case\n",
        "  text = text.lower()\n",
        "  # Removing stopwords\n",
        "  nltk.download('stopwords')\n",
        "  stopwords_eng = stopwords.words('english') \n",
        "  text_tokens = text.split()\n",
        "  text_list=[]\n",
        "  for word in text_tokens:\n",
        "      if word not in stopwords_eng:\n",
        "          text_list.append(word)\n",
        "  # Remove punctuations\n",
        "  clean_text = []\n",
        "  for word in text_list:\n",
        "      if word not in string.punctuation:\n",
        "          clean_text.append(word)\n",
        "\n",
        "  # Turning the list of words into a single string\n",
        "  clean_text = listToString(clean_text)\n",
        "  return clean_text"
      ],
      "execution_count": null,
      "outputs": []
    },
    {
      "cell_type": "code",
      "metadata": {
        "colab": {
          "base_uri": "https://localhost:8080/",
          "height": 1000
        },
        "id": "gfKnPB4mOZJs",
        "outputId": "7dd24988-0592-43cc-eca1-913b16448aea"
      },
      "source": [
        "# Cleaning all texts in the articles\n",
        "for i in range(len(df['article'])):\n",
        "  df['article'][i] = clean_texts(df['article'][i])\n",
        "df['article'][0] "
      ],
      "execution_count": null,
      "outputs": [
        {
          "output_type": "stream",
          "text": [
            "[nltk_data] Downloading package stopwords to /root/nltk_data...\n",
            "[nltk_data]   Package stopwords is already up-to-date!\n",
            "[nltk_data] Downloading package stopwords to /root/nltk_data...\n",
            "[nltk_data]   Package stopwords is already up-to-date!\n",
            "[nltk_data] Downloading package stopwords to /root/nltk_data...\n",
            "[nltk_data]   Package stopwords is already up-to-date!\n",
            "[nltk_data] Downloading package stopwords to /root/nltk_data...\n",
            "[nltk_data]   Package stopwords is already up-to-date!\n",
            "[nltk_data] Downloading package stopwords to /root/nltk_data...\n",
            "[nltk_data]   Package stopwords is already up-to-date!\n",
            "[nltk_data] Downloading package stopwords to /root/nltk_data...\n",
            "[nltk_data]   Package stopwords is already up-to-date!\n",
            "[nltk_data] Downloading package stopwords to /root/nltk_data...\n",
            "[nltk_data]   Package stopwords is already up-to-date!\n",
            "[nltk_data] Downloading package stopwords to /root/nltk_data...\n",
            "[nltk_data]   Package stopwords is already up-to-date!\n",
            "[nltk_data] Downloading package stopwords to /root/nltk_data...\n",
            "[nltk_data]   Package stopwords is already up-to-date!\n",
            "[nltk_data] Downloading package stopwords to /root/nltk_data...\n",
            "[nltk_data]   Package stopwords is already up-to-date!\n"
          ],
          "name": "stdout"
        },
        {
          "output_type": "stream",
          "text": [
            "/usr/local/lib/python3.7/dist-packages/ipykernel_launcher.py:15: DeprecationWarning: The unescape method is deprecated and will be removed in 3.5, use html.unescape() instead.\n",
            "  from ipykernel import kernelapp as app\n",
            "/usr/local/lib/python3.7/dist-packages/ipykernel_launcher.py:3: SettingWithCopyWarning: \n",
            "A value is trying to be set on a copy of a slice from a DataFrame\n",
            "\n",
            "See the caveats in the documentation: https://pandas.pydata.org/pandas-docs/stable/user_guide/indexing.html#returning-a-view-versus-a-copy\n",
            "  This is separate from the ipykernel package so we can avoid doing imports until\n"
          ],
          "name": "stderr"
        },
        {
          "output_type": "stream",
          "text": [
            "[nltk_data] Downloading package stopwords to /root/nltk_data...\n",
            "[nltk_data]   Package stopwords is already up-to-date!\n",
            "[nltk_data] Downloading package stopwords to /root/nltk_data...\n",
            "[nltk_data]   Package stopwords is already up-to-date!\n",
            "[nltk_data] Downloading package stopwords to /root/nltk_data...\n",
            "[nltk_data]   Package stopwords is already up-to-date!\n",
            "[nltk_data] Downloading package stopwords to /root/nltk_data...\n",
            "[nltk_data]   Package stopwords is already up-to-date!\n",
            "[nltk_data] Downloading package stopwords to /root/nltk_data...\n",
            "[nltk_data]   Package stopwords is already up-to-date!\n",
            "[nltk_data] Downloading package stopwords to /root/nltk_data...\n",
            "[nltk_data]   Package stopwords is already up-to-date!\n",
            "[nltk_data] Downloading package stopwords to /root/nltk_data...\n",
            "[nltk_data]   Package stopwords is already up-to-date!\n",
            "[nltk_data] Downloading package stopwords to /root/nltk_data...\n",
            "[nltk_data]   Package stopwords is already up-to-date!\n",
            "[nltk_data] Downloading package stopwords to /root/nltk_data...\n",
            "[nltk_data]   Package stopwords is already up-to-date!\n",
            "[nltk_data] Downloading package stopwords to /root/nltk_data...\n",
            "[nltk_data]   Package stopwords is already up-to-date!\n",
            "[nltk_data] Downloading package stopwords to /root/nltk_data...\n",
            "[nltk_data]   Package stopwords is already up-to-date!\n",
            "[nltk_data] Downloading package stopwords to /root/nltk_data...\n",
            "[nltk_data]   Package stopwords is already up-to-date!\n",
            "[nltk_data] Downloading package stopwords to /root/nltk_data...\n",
            "[nltk_data]   Package stopwords is already up-to-date!\n",
            "[nltk_data] Downloading package stopwords to /root/nltk_data...\n",
            "[nltk_data]   Package stopwords is already up-to-date!\n",
            "[nltk_data] Downloading package stopwords to /root/nltk_data...\n",
            "[nltk_data]   Package stopwords is already up-to-date!\n",
            "[nltk_data] Downloading package stopwords to /root/nltk_data...\n",
            "[nltk_data]   Package stopwords is already up-to-date!\n",
            "[nltk_data] Downloading package stopwords to /root/nltk_data...\n",
            "[nltk_data]   Package stopwords is already up-to-date!\n",
            "[nltk_data] Downloading package stopwords to /root/nltk_data...\n",
            "[nltk_data]   Package stopwords is already up-to-date!\n",
            "[nltk_data] Downloading package stopwords to /root/nltk_data...\n",
            "[nltk_data]   Package stopwords is already up-to-date!\n",
            "[nltk_data] Downloading package stopwords to /root/nltk_data...\n",
            "[nltk_data]   Package stopwords is already up-to-date!\n",
            "[nltk_data] Downloading package stopwords to /root/nltk_data...\n",
            "[nltk_data]   Package stopwords is already up-to-date!\n",
            "[nltk_data] Downloading package stopwords to /root/nltk_data...\n",
            "[nltk_data]   Package stopwords is already up-to-date!\n",
            "[nltk_data] Downloading package stopwords to /root/nltk_data...\n",
            "[nltk_data]   Package stopwords is already up-to-date!\n",
            "[nltk_data] Downloading package stopwords to /root/nltk_data...\n",
            "[nltk_data]   Package stopwords is already up-to-date!\n",
            "[nltk_data] Downloading package stopwords to /root/nltk_data...\n",
            "[nltk_data]   Package stopwords is already up-to-date!\n",
            "[nltk_data] Downloading package stopwords to /root/nltk_data...\n",
            "[nltk_data]   Package stopwords is already up-to-date!\n",
            "[nltk_data] Downloading package stopwords to /root/nltk_data...\n",
            "[nltk_data]   Package stopwords is already up-to-date!\n",
            "[nltk_data] Downloading package stopwords to /root/nltk_data...\n",
            "[nltk_data]   Package stopwords is already up-to-date!\n",
            "[nltk_data] Downloading package stopwords to /root/nltk_data...\n",
            "[nltk_data]   Package stopwords is already up-to-date!\n",
            "[nltk_data] Downloading package stopwords to /root/nltk_data...\n",
            "[nltk_data]   Package stopwords is already up-to-date!\n",
            "[nltk_data] Downloading package stopwords to /root/nltk_data...\n",
            "[nltk_data]   Package stopwords is already up-to-date!\n",
            "[nltk_data] Downloading package stopwords to /root/nltk_data...\n",
            "[nltk_data]   Package stopwords is already up-to-date!\n",
            "[nltk_data] Downloading package stopwords to /root/nltk_data...\n",
            "[nltk_data]   Package stopwords is already up-to-date!\n",
            "[nltk_data] Downloading package stopwords to /root/nltk_data...\n",
            "[nltk_data]   Package stopwords is already up-to-date!\n",
            "[nltk_data] Downloading package stopwords to /root/nltk_data...\n",
            "[nltk_data]   Package stopwords is already up-to-date!\n",
            "[nltk_data] Downloading package stopwords to /root/nltk_data...\n",
            "[nltk_data]   Package stopwords is already up-to-date!\n",
            "[nltk_data] Downloading package stopwords to /root/nltk_data...\n",
            "[nltk_data]   Package stopwords is already up-to-date!\n",
            "[nltk_data] Downloading package stopwords to /root/nltk_data...\n",
            "[nltk_data]   Package stopwords is already up-to-date!\n",
            "[nltk_data] Downloading package stopwords to /root/nltk_data...\n",
            "[nltk_data]   Package stopwords is already up-to-date!\n",
            "[nltk_data] Downloading package stopwords to /root/nltk_data...\n",
            "[nltk_data]   Package stopwords is already up-to-date!\n",
            "[nltk_data] Downloading package stopwords to /root/nltk_data...\n",
            "[nltk_data]   Package stopwords is already up-to-date!\n",
            "[nltk_data] Downloading package stopwords to /root/nltk_data...\n",
            "[nltk_data]   Package stopwords is already up-to-date!\n",
            "[nltk_data] Downloading package stopwords to /root/nltk_data...\n",
            "[nltk_data]   Package stopwords is already up-to-date!\n",
            "[nltk_data] Downloading package stopwords to /root/nltk_data...\n",
            "[nltk_data]   Package stopwords is already up-to-date!\n",
            "[nltk_data] Downloading package stopwords to /root/nltk_data...\n",
            "[nltk_data]   Package stopwords is already up-to-date!\n",
            "[nltk_data] Downloading package stopwords to /root/nltk_data...\n",
            "[nltk_data]   Package stopwords is already up-to-date!\n",
            "[nltk_data] Downloading package stopwords to /root/nltk_data...\n",
            "[nltk_data]   Package stopwords is already up-to-date!\n",
            "[nltk_data] Downloading package stopwords to /root/nltk_data...\n",
            "[nltk_data]   Package stopwords is already up-to-date!\n",
            "[nltk_data] Downloading package stopwords to /root/nltk_data...\n",
            "[nltk_data]   Package stopwords is already up-to-date!\n",
            "[nltk_data] Downloading package stopwords to /root/nltk_data...\n",
            "[nltk_data]   Package stopwords is already up-to-date!\n",
            "[nltk_data] Downloading package stopwords to /root/nltk_data...\n",
            "[nltk_data]   Package stopwords is already up-to-date!\n",
            "[nltk_data] Downloading package stopwords to /root/nltk_data...\n",
            "[nltk_data]   Package stopwords is already up-to-date!\n",
            "[nltk_data] Downloading package stopwords to /root/nltk_data...\n",
            "[nltk_data]   Package stopwords is already up-to-date!\n",
            "[nltk_data] Downloading package stopwords to /root/nltk_data...\n",
            "[nltk_data]   Package stopwords is already up-to-date!\n",
            "[nltk_data] Downloading package stopwords to /root/nltk_data...\n",
            "[nltk_data]   Package stopwords is already up-to-date!\n",
            "[nltk_data] Downloading package stopwords to /root/nltk_data...\n",
            "[nltk_data]   Package stopwords is already up-to-date!\n",
            "[nltk_data] Downloading package stopwords to /root/nltk_data...\n",
            "[nltk_data]   Package stopwords is already up-to-date!\n",
            "[nltk_data] Downloading package stopwords to /root/nltk_data...\n",
            "[nltk_data]   Package stopwords is already up-to-date!\n",
            "[nltk_data] Downloading package stopwords to /root/nltk_data...\n",
            "[nltk_data]   Package stopwords is already up-to-date!\n",
            "[nltk_data] Downloading package stopwords to /root/nltk_data...\n",
            "[nltk_data]   Package stopwords is already up-to-date!\n",
            "[nltk_data] Downloading package stopwords to /root/nltk_data...\n",
            "[nltk_data]   Package stopwords is already up-to-date!\n",
            "[nltk_data] Downloading package stopwords to /root/nltk_data...\n",
            "[nltk_data]   Package stopwords is already up-to-date!\n",
            "[nltk_data] Downloading package stopwords to /root/nltk_data...\n",
            "[nltk_data]   Package stopwords is already up-to-date!\n",
            "[nltk_data] Downloading package stopwords to /root/nltk_data...\n",
            "[nltk_data]   Package stopwords is already up-to-date!\n",
            "[nltk_data] Downloading package stopwords to /root/nltk_data...\n",
            "[nltk_data]   Package stopwords is already up-to-date!\n",
            "[nltk_data] Downloading package stopwords to /root/nltk_data...\n",
            "[nltk_data]   Package stopwords is already up-to-date!\n",
            "[nltk_data] Downloading package stopwords to /root/nltk_data...\n",
            "[nltk_data]   Package stopwords is already up-to-date!\n",
            "[nltk_data] Downloading package stopwords to /root/nltk_data...\n",
            "[nltk_data]   Package stopwords is already up-to-date!\n",
            "[nltk_data] Downloading package stopwords to /root/nltk_data...\n",
            "[nltk_data]   Package stopwords is already up-to-date!\n",
            "[nltk_data] Downloading package stopwords to /root/nltk_data...\n",
            "[nltk_data]   Package stopwords is already up-to-date!\n"
          ],
          "name": "stdout"
        },
        {
          "output_type": "execute_result",
          "data": {
            "application/vnd.google.colaboratory.intrinsic+json": {
              "type": "string"
            },
            "text/plain": [
              "'prime minister boris johnson joined 20 world leaders calling new global settlement help world prepare future pandemics. \\\\n\\', \\'\\\\nin newspaper article leaders, including german chancellor french president, said covid posed biggest challenge since world war two.\\\\n\\', \\'\\\\nwriting daily telegraph publications le monde france el pais spain, 24 leaders argue treaty similar reached wake world war two needed build cross-border cooperation.\\\\n\\', \\'\\\\nthe signatories, include head world health organization, dr tedros adhanom ghebreyesus, said: \"at time, following devastation two world wars, political leaders came together forge multilateral system. \\\\n\\', \\'\\\\n\"the aims clear: bring countries together, dispel temptations isolationism nationalism, address challenges could achieved together spirit solidarity co-operation namely peace, prosperity, health security.\"\\\\n\\', \\'\\\\nfrance\\\\ president emmanuel macron, german chancellor angela merkel leaders said spirit, countries must \"be better prepared predict, prevent, detect, assess effectively respond pandemics highly co-ordinated fashion\". \\\\n\\', \\'\\\\na new treaty would help establish better systems alerting people potential pandemics, said, also improving sharing data distribution vaccines personal protective equipment.\\\\n\\', \\'\\\\n\"there pandemics major health emergencies. single government multilateral agency address threat alone. question if, when. \\\\n\\', \\'\\\\nthe letter added: \"at time covid-19 exploited weaknesses divisions, must seize opportunity come together global community peaceful co-operation extends beyond crisis.\"\\\\n\\', \\'\\\\ndr david nabarro, special envoy covid-19 who, told bbc radio 4\\\\ today programme without \"some kind special action, world whole vaccinated well 2022\".\\\\n\\', \\'\\\\n\"during time sorts problems variants emerge, leaders saying \\\\\\'this problem huge we\\\\ got work together deal it\\\\\\',\" added.\\\\n\\', \\'\\\\nwhile concept international vaccine treaty suggests cosy cooperation, elsewhere quite battle going signatories letter issue blueprints new vaccines.\\\\n\\', \\'\\\\nsouth africa india leading dozens mainly developing countries seeking temporary pandemic waiver global rules protecting technology recipes covid vaccines. \\\\n\\', \\'\\\\nthe argument pharmaceutical companies performed well getting vaccine arms within year, need able incentive making money innovation years come.\\\\n\\', \\'\\\\nthat would mark stunning change, leave uk eu pressure change tack, least put flesh bones goal treaty pandemic everyone.\\\\n\\', \\'\\\\nmr kwarteng told programme making vaccines available counties \"can happen surplus vaccines uk\".\\\\n\\', \\'\\\\n\"there\\\\ still way go. we\\\\ got make sure everything deal pandemic coronavirus country,\" said.\\\\n\\', \\'\\\\n\"but obviously want work spirit co-operation well, surpluses we\\\\ looking export those, i\\\\ sure.\"\\\\n\\', \\'\\\\nthe joint article comes wake disagreement uk eu vaccines, bloc introduced tougher export controls jabs produced there.\\\\n\\', \\'\\\\nthe uk world health organization warned blockades, eu blamed pharmaceutical companies primarily astrazeneca delivering promised doses. \\\\n\\', \\'\\\\nat downing street briefing monday, mr johnson announced tens millions doses novavax vaccine would produced packaged north-east england.\\\\n\\', \\'\\\\nalso briefing, pm said uk know \"exactly strong\" defences another wave covid would despite \"impressive\" vaccine rollout. \\\\n\\', \\'\\\\nhe speaking stay-at-home rule came end england, allowing groups meet outdoors. outdoor sport facilities, including swimming pools, tennis courts golf courses, reopened, weddings also again.\\\\n\\', \\'\\\\nbut also said could \"see anything data right would cause us deviate road map\" easing restrictions.\\\\n\\', \\'\\\\nthe latest figures show 293,542 uk adults received first dose vaccine sunday, taking overall number 30,444,829 146,785 second dose, bringing total 3,674,266.\\\\n\\'])'"
            ]
          },
          "metadata": {
            "tags": []
          },
          "execution_count": 7
        }
      ]
    },
    {
      "cell_type": "markdown",
      "metadata": {
        "id": "MUZ-sF16W99B"
      },
      "source": [
        "### **Prepare data for modelling**"
      ]
    },
    {
      "cell_type": "code",
      "metadata": {
        "id": "95jUQU35UZRP"
      },
      "source": [
        "from sklearn.preprocessing import LabelEncoder\n",
        "from tensorflow.keras.preprocessing.sequence import pad_sequences\n",
        "from tensorflow.keras.preprocessing.text import Tokenizer\n",
        "\n",
        "df = df.drop(['Unnamed: 0', 'url'], axis=1)\n",
        "\n",
        "# Encoding the category column\n",
        "le = LabelEncoder()\n",
        "df['category'] = le.fit_transform(df['category'])"
      ],
      "execution_count": null,
      "outputs": []
    },
    {
      "cell_type": "code",
      "metadata": {
        "id": "NkccRtzsUuZU"
      },
      "source": [
        "# Shuffling the data\n",
        "df = df.reindex(np.random.permutation(df.index))\n",
        "\n",
        "# Splitting features from the label\n",
        "data = df['article'].values\n",
        "target = df['category'].values"
      ],
      "execution_count": null,
      "outputs": []
    },
    {
      "cell_type": "code",
      "metadata": {
        "id": "-xOwOqRMUzJ6"
      },
      "source": [
        "# Splitting the data into training and testing set\n",
        "# from sklearn.model_selection import train_test_split\n",
        "# X_train, X_test, y_train, y_test = train_test_split(data, target, test_size=0.2)\n",
        "# X_train.shape, X_test.shape, y_train.shape, y_test.shape"
      ],
      "execution_count": null,
      "outputs": []
    },
    {
      "cell_type": "code",
      "metadata": {
        "id": "cUoZbKNYV1Ex"
      },
      "source": [
        "# Preparing the tokenizer\n",
        "tokenizer = Tokenizer(num_words=100)\n",
        "tokenizer.fit_on_texts(data)"
      ],
      "execution_count": null,
      "outputs": []
    },
    {
      "cell_type": "code",
      "metadata": {
        "colab": {
          "base_uri": "https://localhost:8080/"
        },
        "id": "kmTYVNiMV-M1",
        "outputId": "b7a3c420-46ba-4a18-af97-d2297a67685f"
      },
      "source": [
        "# Integer encoding the documents\n",
        "encoded_data = tokenizer.texts_to_sequences(data)\n",
        "print(encoded_data[0:2])"
      ],
      "execution_count": null,
      "outputs": [
        {
          "output_type": "stream",
          "text": [
            "[[8, 46, 3, 1, 95, 17, 16, 9, 25, 25, 6, 18, 1, 17, 85, 49, 76, 9, 81, 46, 63, 49, 3, 18, 1, 12, 1, 18, 8, 51, 4, 5, 24, 16, 28, 72, 8, 24, 18, 18, 64, 25, 25, 9, 3, 10, 8, 3, 76, 60, 11, 24, 8, 59, 1, 9, 50, 54, 13, 4, 5, 42, 9, 76, 13, 9, 43, 25, 35, 9, 25, 18, 39, 3, 1, 8, 49, 8, 3, 4], [82, 21, 15, 16, 36, 65, 24, 24, 29, 6, 63, 77, 55, 70, 96, 29, 36, 17, 13, 29, 60, 21, 40, 97, 66, 21, 39, 56, 29, 71, 71, 3, 21, 86, 3, 87, 36, 17, 13, 8, 82, 21, 23, 21, 40, 78, 24, 57, 6, 1, 9, 34, 38, 21, 96, 61, 96, 38, 21, 60, 23, 21, 9, 34, 3, 1, 29, 21, 3, 1, 79, 40, 29, 86, 39, 71, 3, 1, 88, 29, 3, 87, 4]]\n"
          ],
          "name": "stdout"
        }
      ]
    },
    {
      "cell_type": "code",
      "metadata": {
        "id": "AlOg257Tr-EX"
      },
      "source": [
        "# Saving the tokenizer object\n",
        "import pickle\n",
        "\n",
        "filename = \"tokenizer.pickle\"\n",
        "pickle.dump(tokenizer, open(filename, 'wb'))"
      ],
      "execution_count": null,
      "outputs": []
    },
    {
      "cell_type": "code",
      "metadata": {
        "id": "WJqiSDevZGqd"
      },
      "source": [
        "# pad documents to a max length of 6 words\n",
        "max_length = 10\n",
        "padded_data = pad_sequences(encoded_data, maxlen=max_length, padding='post')"
      ],
      "execution_count": null,
      "outputs": []
    },
    {
      "cell_type": "code",
      "metadata": {
        "id": "KN3vO4WIaILR"
      },
      "source": [
        "# # Applying classifiaction algorithms to predict similar newspapers\n",
        "# from sklearn.neighbors import KNeighborsClassifier\n",
        "# from sklearn.metrics import accuracy_score\n",
        "# import xgboost as xgb\n",
        "\n",
        "# model = KNeighborsClassifier(n_neighbors = 4)\n",
        "# y_pred = model.fit(padded_train, y_train).predict(padded_test)\n",
        "# score = accuracy_score(y_pred, y_test)\n",
        "# print(\"The score of our KNN model is: \", score*100, \"%\")\n",
        "\n",
        "# model2 = xgb.XGBClassifier()\n",
        "# y_pred = model2.fit(padded_train, y_train).predict(padded_test)\n",
        "# score = accuracy_score(y_pred, y_test)\n",
        "# print(\"The score of our xgboost model is: \", score*100, \"%\")"
      ],
      "execution_count": null,
      "outputs": []
    },
    {
      "cell_type": "code",
      "metadata": {
        "id": "uhpO9rbhaOFa"
      },
      "source": [
        "# # Saving the xgboost model for deployment\n",
        "# import pickle\n",
        "\n",
        "# filename = \"newspaper_model.sav\"\n",
        "# pickle.dump(model2, open(filename, 'wb'))"
      ],
      "execution_count": null,
      "outputs": []
    },
    {
      "cell_type": "code",
      "metadata": {
        "id": "bUvuiItCYBmQ"
      },
      "source": [
        "# Using Principal component analysis (PCA) model for dimensionality reduction\n",
        "from sklearn.decomposition import PCA\n",
        "\n",
        "model = PCA(2)\n",
        "X_reduced = model.fit_transform(padded_data)"
      ],
      "execution_count": null,
      "outputs": []
    },
    {
      "cell_type": "code",
      "metadata": {
        "id": "D7z73kafatYt",
        "colab": {
          "base_uri": "https://localhost:8080/",
          "height": 352
        },
        "outputId": "04524b55-cc34-42a7-f87d-3c0d471dc241"
      },
      "source": [
        "# Using clustering model and dimensionality reduction\n",
        "from sklearn.cluster import KMeans\n",
        "from sklearn.metrics import accuracy_score\n",
        "\n",
        "kmeans = KMeans(n_clusters=4, random_state=0)\n",
        "X_new = kmeans.fit_transform(X_reduced)\n",
        "label = kmeans.predict(X_reduced)\n",
        "\n",
        "score = accuracy_score(label, target)\n",
        "plt.title(\"Clustering newspapers\")\n",
        "sns.scatterplot(X_new[:, 0], X_new[:, 1], hue=label, palette=['green','orange','brown','dodgerblue'],legend='full')"
      ],
      "execution_count": null,
      "outputs": [
        {
          "output_type": "stream",
          "text": [
            "/usr/local/lib/python3.7/dist-packages/seaborn/_decorators.py:43: FutureWarning: Pass the following variables as keyword args: x, y. From version 0.12, the only valid positional argument will be `data`, and passing other arguments without an explicit keyword will result in an error or misinterpretation.\n",
            "  FutureWarning\n"
          ],
          "name": "stderr"
        },
        {
          "output_type": "execute_result",
          "data": {
            "text/plain": [
              "<matplotlib.axes._subplots.AxesSubplot at 0x7f819fb8fc10>"
            ]
          },
          "metadata": {
            "tags": []
          },
          "execution_count": 55
        },
        {
          "output_type": "display_data",
          "data": {
            "image/png": "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\n",
            "text/plain": [
              "<Figure size 432x288 with 1 Axes>"
            ]
          },
          "metadata": {
            "tags": [],
            "needs_background": "light"
          }
        }
      ]
    },
    {
      "cell_type": "code",
      "metadata": {
        "id": "ker831VYYAaZ"
      },
      "source": [
        "score = accuracy_score(label, target)"
      ],
      "execution_count": null,
      "outputs": []
    },
    {
      "cell_type": "code",
      "metadata": {
        "id": "7HqMP274cldU",
        "colab": {
          "base_uri": "https://localhost:8080/"
        },
        "outputId": "5f9b4a22-25c6-4ea4-ffda-1a15af2e5176"
      },
      "source": [
        "# Evaluating the accuracy of the model\n",
        "print(\"The accuracy score of the k-means clustering is: \", score*100,\"%\")"
      ],
      "execution_count": null,
      "outputs": [
        {
          "output_type": "stream",
          "text": [
            "The accuracy score of the k-means clustering is:  23.75 %\n"
          ],
          "name": "stdout"
        }
      ]
    },
    {
      "cell_type": "code",
      "metadata": {
        "colab": {
          "base_uri": "https://localhost:8080/",
          "height": 231
        },
        "id": "gxAgD23I7vLf",
        "outputId": "1f694827-c0c7-4cb3-bed7-96d29b43a9f1"
      },
      "source": [
        "# Saving the model\n",
        "import pickle\n",
        "\n",
        "filename = \"newspaper_model.sav\"\n",
        "pickle.dump(kmeans, open(filename, 'wb'))"
      ],
      "execution_count": null,
      "outputs": [
        {
          "output_type": "error",
          "ename": "NameError",
          "evalue": "ignored",
          "traceback": [
            "\u001b[0;31m---------------------------------------------------------------------------\u001b[0m",
            "\u001b[0;31mNameError\u001b[0m                                 Traceback (most recent call last)",
            "\u001b[0;32m<ipython-input-21-e0c577ea5935>\u001b[0m in \u001b[0;36m<module>\u001b[0;34m()\u001b[0m\n\u001b[0;32m----> 1\u001b[0;31m \u001b[0mdd\u001b[0m\u001b[0;34m\u001b[0m\u001b[0;34m\u001b[0m\u001b[0m\n\u001b[0m\u001b[1;32m      2\u001b[0m \u001b[0;31m# Saving the model\u001b[0m\u001b[0;34m\u001b[0m\u001b[0;34m\u001b[0m\u001b[0;34m\u001b[0m\u001b[0m\n\u001b[1;32m      3\u001b[0m \u001b[0;32mimport\u001b[0m \u001b[0mpickle\u001b[0m\u001b[0;34m\u001b[0m\u001b[0;34m\u001b[0m\u001b[0m\n\u001b[1;32m      4\u001b[0m \u001b[0;34m\u001b[0m\u001b[0m\n\u001b[1;32m      5\u001b[0m \u001b[0mfilename\u001b[0m \u001b[0;34m=\u001b[0m \u001b[0;34m\"newspaper_model.sav\"\u001b[0m\u001b[0;34m\u001b[0m\u001b[0;34m\u001b[0m\u001b[0m\n",
            "\u001b[0;31mNameError\u001b[0m: name 'dd' is not defined"
          ]
        }
      ]
    },
    {
      "cell_type": "code",
      "metadata": {
        "id": "u-IJCiHyBlYu",
        "colab": {
          "base_uri": "https://localhost:8080/",
          "height": 299
        },
        "outputId": "9e695f5d-6750-46fb-da21-3a9f074a5be1"
      },
      "source": [
        "from region import Region"
      ],
      "execution_count": null,
      "outputs": [
        {
          "output_type": "error",
          "ename": "ModuleNotFoundError",
          "evalue": "ignored",
          "traceback": [
            "\u001b[0;31m---------------------------------------------------------------------------\u001b[0m",
            "\u001b[0;31mModuleNotFoundError\u001b[0m                       Traceback (most recent call last)",
            "\u001b[0;32m<ipython-input-1-1ec6e50e26fe>\u001b[0m in \u001b[0;36m<module>\u001b[0;34m()\u001b[0m\n\u001b[0;32m----> 1\u001b[0;31m \u001b[0;32mfrom\u001b[0m \u001b[0mregion\u001b[0m \u001b[0;32mimport\u001b[0m \u001b[0mRegion\u001b[0m\u001b[0;34m\u001b[0m\u001b[0;34m\u001b[0m\u001b[0m\n\u001b[0m",
            "\u001b[0;31mModuleNotFoundError\u001b[0m: No module named 'region'",
            "",
            "\u001b[0;31m---------------------------------------------------------------------------\u001b[0;32m\nNOTE: If your import is failing due to a missing package, you can\nmanually install dependencies using either !pip or !apt.\n\nTo view examples of installing some common dependencies, click the\n\"Open Examples\" button below.\n\u001b[0;31m---------------------------------------------------------------------------\u001b[0m\n"
          ]
        }
      ]
    },
    {
      "cell_type": "code",
      "metadata": {
        "id": "mOFodOXuT0D5"
      },
      "source": [
        ""
      ],
      "execution_count": null,
      "outputs": []
    },
    {
      "cell_type": "code",
      "metadata": {
        "id": "CEk607EWVpBo"
      },
      "source": [
        ""
      ],
      "execution_count": null,
      "outputs": []
    }
  ]
}
